{
 "cells": [
  {
   "cell_type": "code",
   "execution_count": 1,
   "metadata": {},
   "outputs": [
    {
     "name": "stdout",
     "output_type": "stream",
     "text": [
      "Total frames: 333\n"
     ]
    }
   ],
   "source": [
    "import cv2\n",
    "\n",
    "#side cam\n",
    "#video = cv2.VideoCapture(r\"C:\\Users\\avs20\\Documents\\GitHub\\MouseVR\\Bonsai_workflows\\Circle\\Circle_24_21_29_12.avi\")\n",
    "video = cv2.VideoCapture(r\"C:\\Users\\avs20\\Documents\\GitHub\\MouseVR\\Bonsai_workflows\\Circle\\Circle_24_21_41_7.avi\")\n",
    "\n",
    "#front cam\n",
    "#video = cv2.VideoCapture(r\"C:\\Users\\avs20\\Documents\\GitHub\\MouseVR\\Bonsai_workflows\\front_Circle\\front_Circle_24_21_29_12.avi\")\n",
    "#video = cv2.VideoCapture(r\"C:\\Users\\avs20\\Documents\\GitHub\\MouseVR\\Bonsai_workflows\\front_Diagonal\\front_Diagonal_24_21_28_42.avi\")\n",
    "\n",
    "frames = int(video.get(cv2.CAP_PROP_FRAME_COUNT))\n",
    "print(f\"Total frames: {frames}\")\n",
    "video.release()\n",
    "\n",
    "\n"
   ]
  }
 ],
 "metadata": {
  "kernelspec": {
   "display_name": "Python 3",
   "language": "python",
   "name": "python3"
  },
  "language_info": {
   "codemirror_mode": {
    "name": "ipython",
    "version": 3
   },
   "file_extension": ".py",
   "mimetype": "text/x-python",
   "name": "python",
   "nbconvert_exporter": "python",
   "pygments_lexer": "ipython3",
   "version": "3.12.2"
  }
 },
 "nbformat": 4,
 "nbformat_minor": 2
}
